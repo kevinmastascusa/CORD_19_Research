{
 "cells": [
  {
   "cell_type": "code",
   "execution_count": 12,
   "outputs": [
    {
     "data": {
      "text/plain": "                                               title  target\n0  Clinical features of culture-proven Mycoplasma...       0\n1  Nitric oxide: a pro-inflammatory mediator in l...       0\n2    Surfactant protein-D and pulmonary host defense       0\n3               Role of endothelin-1 in lung disease       0\n4  Gene expression in epithelial cells in respons...       0",
      "text/html": "<div>\n<style scoped>\n    .dataframe tbody tr th:only-of-type {\n        vertical-align: middle;\n    }\n\n    .dataframe tbody tr th {\n        vertical-align: top;\n    }\n\n    .dataframe thead th {\n        text-align: right;\n    }\n</style>\n<table border=\"1\" class=\"dataframe\">\n  <thead>\n    <tr style=\"text-align: right;\">\n      <th></th>\n      <th>title</th>\n      <th>target</th>\n    </tr>\n  </thead>\n  <tbody>\n    <tr>\n      <th>0</th>\n      <td>Clinical features of culture-proven Mycoplasma...</td>\n      <td>0</td>\n    </tr>\n    <tr>\n      <th>1</th>\n      <td>Nitric oxide: a pro-inflammatory mediator in l...</td>\n      <td>0</td>\n    </tr>\n    <tr>\n      <th>2</th>\n      <td>Surfactant protein-D and pulmonary host defense</td>\n      <td>0</td>\n    </tr>\n    <tr>\n      <th>3</th>\n      <td>Role of endothelin-1 in lung disease</td>\n      <td>0</td>\n    </tr>\n    <tr>\n      <th>4</th>\n      <td>Gene expression in epithelial cells in respons...</td>\n      <td>0</td>\n    </tr>\n  </tbody>\n</table>\n</div>"
     },
     "execution_count": 12,
     "metadata": {},
     "output_type": "execute_result"
    }
   ],
   "source": [
    "import pandas as pd\n",
    "#read csv\n",
    "df = pd.read_csv('CORD19_abstract.csv')\n",
    "df.head()\n"
   ],
   "metadata": {
    "collapsed": false,
    "ExecuteTime": {
     "end_time": "2023-05-29T22:31:53.320789Z",
     "start_time": "2023-05-29T22:31:52.048681Z"
    }
   }
  },
  {
   "cell_type": "code",
   "execution_count": 13,
   "outputs": [
    {
     "data": {
      "text/plain": "                                               title  target\n0  Clinical features of culture-proven Mycoplasma...       0\n1  Nitric oxide: a pro-inflammatory mediator in l...       0\n2    Surfactant protein-D and pulmonary host defense       0\n3               Role of endothelin-1 in lung disease       0\n4  Gene expression in epithelial cells in respons...       0",
      "text/html": "<div>\n<style scoped>\n    .dataframe tbody tr th:only-of-type {\n        vertical-align: middle;\n    }\n\n    .dataframe tbody tr th {\n        vertical-align: top;\n    }\n\n    .dataframe thead th {\n        text-align: right;\n    }\n</style>\n<table border=\"1\" class=\"dataframe\">\n  <thead>\n    <tr style=\"text-align: right;\">\n      <th></th>\n      <th>title</th>\n      <th>target</th>\n    </tr>\n  </thead>\n  <tbody>\n    <tr>\n      <th>0</th>\n      <td>Clinical features of culture-proven Mycoplasma...</td>\n      <td>0</td>\n    </tr>\n    <tr>\n      <th>1</th>\n      <td>Nitric oxide: a pro-inflammatory mediator in l...</td>\n      <td>0</td>\n    </tr>\n    <tr>\n      <th>2</th>\n      <td>Surfactant protein-D and pulmonary host defense</td>\n      <td>0</td>\n    </tr>\n    <tr>\n      <th>3</th>\n      <td>Role of endothelin-1 in lung disease</td>\n      <td>0</td>\n    </tr>\n    <tr>\n      <th>4</th>\n      <td>Gene expression in epithelial cells in respons...</td>\n      <td>0</td>\n    </tr>\n  </tbody>\n</table>\n</div>"
     },
     "execution_count": 13,
     "metadata": {},
     "output_type": "execute_result"
    }
   ],
   "source": [
    "#drop rows with missing values\n",
    "df = df.dropna()\n",
    "df.head()\n"
   ],
   "metadata": {
    "collapsed": false,
    "ExecuteTime": {
     "end_time": "2023-05-29T22:31:53.449856Z",
     "start_time": "2023-05-29T22:31:53.433223Z"
    }
   }
  },
  {
   "cell_type": "code",
   "execution_count": 15,
   "outputs": [
    {
     "data": {
      "text/plain": "                                                   title  target\n11779  Scope, quality, and inclusivity of clinical gu...       1\n25959  Moral panic about “covidiots” in Canadian news...       1\n31336  Commentary to the paper: Association of smokin...       1\n46437  The pathogenesis of thromboembolic disease in ...       1\n49266      Music and the internet in the age of covid-19       1",
      "text/html": "<div>\n<style scoped>\n    .dataframe tbody tr th:only-of-type {\n        vertical-align: middle;\n    }\n\n    .dataframe tbody tr th {\n        vertical-align: top;\n    }\n\n    .dataframe thead th {\n        text-align: right;\n    }\n</style>\n<table border=\"1\" class=\"dataframe\">\n  <thead>\n    <tr style=\"text-align: right;\">\n      <th></th>\n      <th>title</th>\n      <th>target</th>\n    </tr>\n  </thead>\n  <tbody>\n    <tr>\n      <th>11779</th>\n      <td>Scope, quality, and inclusivity of clinical gu...</td>\n      <td>1</td>\n    </tr>\n    <tr>\n      <th>25959</th>\n      <td>Moral panic about “covidiots” in Canadian news...</td>\n      <td>1</td>\n    </tr>\n    <tr>\n      <th>31336</th>\n      <td>Commentary to the paper: Association of smokin...</td>\n      <td>1</td>\n    </tr>\n    <tr>\n      <th>46437</th>\n      <td>The pathogenesis of thromboembolic disease in ...</td>\n      <td>1</td>\n    </tr>\n    <tr>\n      <th>49266</th>\n      <td>Music and the internet in the age of covid-19</td>\n      <td>1</td>\n    </tr>\n  </tbody>\n</table>\n</div>"
     },
     "execution_count": 15,
     "metadata": {},
     "output_type": "execute_result"
    }
   ],
   "source": [
    "df = df[df['title'].str.contains('covid')]\n",
    "df.head()"
   ],
   "metadata": {
    "collapsed": false,
    "ExecuteTime": {
     "end_time": "2023-05-29T22:32:06.033350Z",
     "start_time": "2023-05-29T22:32:05.640678Z"
    }
   }
  },
  {
   "cell_type": "code",
   "execution_count": null,
   "outputs": [],
   "source": [],
   "metadata": {
    "collapsed": false
   }
  },
  {
   "cell_type": "code",
   "execution_count": null,
   "outputs": [],
   "source": [],
   "metadata": {
    "collapsed": false
   }
  }
 ],
 "metadata": {
  "kernelspec": {
   "display_name": "Python 3",
   "language": "python",
   "name": "python3"
  },
  "language_info": {
   "codemirror_mode": {
    "name": "ipython",
    "version": 2
   },
   "file_extension": ".py",
   "mimetype": "text/x-python",
   "name": "python",
   "nbconvert_exporter": "python",
   "pygments_lexer": "ipython2",
   "version": "2.7.6"
  }
 },
 "nbformat": 4,
 "nbformat_minor": 0
}
